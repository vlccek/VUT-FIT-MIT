{
 "cells": [
  {
   "metadata": {},
   "cell_type": "markdown",
   "source": [
    "# Weibullovo rozdělení\n",
    "- Weibullovo rozdělení je definováno dvěma parametry:\n",
    "\n",
    "Weibullovo rozdělení je definováno dvěma parametry:\n",
    "- **Tvarový parametr** ($k$): Určuje tvar rozdělení.\n",
    "  - \\(k < 1\\): Pravděpodobnost selhání časem klesá.\n",
    "  - \\(k = 1\\): Odpovídá exponenciálnímu rozdělení.\n",
    "  - \\(k > 1\\): Pravděpodobnost selhání časem roste.\n",
    "- **Měřítkový parametr** ($\\lambda\\$): Určuje škálu rozdělení (např. typickou délku života nebo čas do selhání).\n",
    "\n",
    "$$\n",
    "f(x; k, \\lambda) =\n",
    "\\begin{cases}\n",
    "\\frac{k}{\\lambda} \\left(\\frac{x}{\\lambda}\\right)^{k-1} e^{-(x/\\lambda)^k}, & x \\geq 0, \\\\\n",
    "0, & x < 0.\n",
    "\\end{cases}\n",
    "$$\n"
   ],
   "id": "dd446557335a7da"
  },
  {
   "metadata": {},
   "cell_type": "markdown",
   "source": "# Výpočet lagartimické věrohodnostní funkce\n",
   "id": "123b993f23aadf82"
  },
  {
   "metadata": {
    "ExecuteTime": {
     "end_time": "2024-12-05T12:32:44.233530Z",
     "start_time": "2024-12-05T12:32:44.217798Z"
    }
   },
   "cell_type": "code",
   "source": [
    "import pandas as pd\n",
    "\n",
    "# Načtení Excelového souboru\n",
    "file_path = \"Data_2024.xlsx\"\n",
    "sheet_name = \"Data_věrohodnost\"  # Název listu, který chcete načíst\n",
    "\n",
    "# Načtení dat do DataFrame\n",
    "data = pd.read_excel(file_path, sheet_name=sheet_name,  usecols=[\"censored\", \"doba práce v oboru [roky]\"] )\n",
    "\n",
    "# Náhled na prvních několik řádků\n",
    "print(data.describe())\n"
   ],
   "id": "2e82a603fa11e4",
   "outputs": [
    {
     "name": "stdout",
     "output_type": "stream",
     "text": [
      "         censored  doba práce v oboru [roky]\n",
      "count  321.000000                 321.000000\n",
      "mean     0.274143                   6.571389\n",
      "std      0.446778                   1.192638\n",
      "min      0.000000                   2.932000\n",
      "25%      0.000000                   5.830000\n",
      "50%      0.000000                   6.670000\n",
      "75%      1.000000                   7.308000\n",
      "max      1.000000                   9.304000\n"
     ]
    }
   ],
   "execution_count": 5
  },
  {
   "metadata": {},
   "cell_type": "markdown",
   "source": [
    "## Výpočet logaritmické věrohodnostní funkce\n",
    "\n",
    "### Věrohodnostní funkce a logaritmická věrohodnostní funkce pro Weibullovo rozdělení jsou definovány následovně:\n",
    "$$\n",
    "L(k, \\lambda) = \\prod_{i=1}^n f(x_i; k, \\lambda)\n",
    "$$\n",
    "$$\n",
    "\\ell(k, \\lambda) = \\log L(k, \\lambda) = \\sum_{i=1}^n \\log f(x_i; k, \\lambda)\n",
    "$$\n",
    "Výpočet logaritmické věrohodnostní funkce pro Weibullovo rozdělení:\n",
    "$$\n",
    "\\ell(k, \\lambda) = n \\log k - n \\log \\lambda + (k - 1) \\sum_{i=1}^n \\log x_i - \\sum_{i=1}^n \\left(\\frac{x_i}{\\lambda}\\right)^k\n",
    "$$\n",
    "### Nalezení minima logaritmické věrohodnostní funkce\n",
    "Nyní je potřeba najít minimum abych našel MLE odhad parametrů \\(k\\) a \\(\\lambda\\), což dělám tak že spočítám derivaci logaritmické věrohodnostní funkce a nastavím ji rovnu 0.\n",
    "$$\n",
    "\\frac{\\partial \\ell}{\\partial k} = \\frac{n}{k} + \\sum_{i=1}^n \\log x_i - \\sum_{i=1}^n \\left(\\frac{x_i}{\\lambda}\\right)^k \\log \\left(\\frac{x_i}{\\lambda}\\right)\n",
    "$$\n",
    "\n"
   ],
   "id": "a97905a99df3da35"
  }
 ],
 "metadata": {
  "kernelspec": {
   "display_name": "Python 3",
   "language": "python",
   "name": "python3"
  },
  "language_info": {
   "codemirror_mode": {
    "name": "ipython",
    "version": 2
   },
   "file_extension": ".py",
   "mimetype": "text/x-python",
   "name": "python",
   "nbconvert_exporter": "python",
   "pygments_lexer": "ipython2",
   "version": "2.7.6"
  }
 },
 "nbformat": 4,
 "nbformat_minor": 5
}
